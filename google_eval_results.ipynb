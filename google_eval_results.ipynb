{
 "cells": [
  {
   "cell_type": "code",
   "execution_count": 1,
   "id": "276e84d7",
   "metadata": {},
   "outputs": [],
   "source": [
    "import pandas as pd\n",
    "import json\n",
    "import statistics\n",
    "from pprint import pprint\n",
    "from tqdm import tqdm\n",
    "import json"
   ]
  },
  {
   "cell_type": "code",
   "execution_count": 14,
   "id": "3c3acb4c",
   "metadata": {},
   "outputs": [],
   "source": [
    "def evaluate_file(path: str):\n",
    "    indexes = []\n",
    "\n",
    "    # google outputs are too big to fit into memory\n",
    "    with open(filepath) as fp:\n",
    "        line = fp.readline()\n",
    "        \n",
    "        with tqdm() as pbar:\n",
    "            while line:\n",
    "                row = json.loads(line)\n",
    "\n",
    "                correct_label = row[\"MemeName\"]\n",
    "                guesses = row[\"predicted_MemeName\"]\n",
    "\n",
    "                guesses.sort(key=lambda x: x[\"tables\"][\"score\"], reverse=True)\n",
    "                guesses_labels = [x[\"tables\"][\"value\"] for x in guesses]\n",
    "\n",
    "                index = guesses_labels.index(correct_label)\n",
    "\n",
    "                indexes.append(index)\n",
    "\n",
    "                line = fp.readline()\n",
    "                pbar.update()\n",
    "   \n",
    "    print()\n",
    "    print(basename(filepath))\n",
    "    print(\"n:\", len(indexes))\n",
    "    print(\"Median index:\", statistics.median(indexes))\n",
    "    print(\"Mean index:\", statistics.mean(indexes))\n",
    "    print(\"% in top 1:\", len(list(filter(lambda x: x == 0, indexes))) / len(indexes) * 100 )\n",
    "    print(\"% in top 5: \", len(list(filter(lambda x: x <= 4, indexes))) / len(indexes) * 100 )\n",
    "    \n"
   ]
  },
  {
   "cell_type": "code",
   "execution_count": 15,
   "id": "685adf2b",
   "metadata": {},
   "outputs": [
    {
     "name": "stderr",
     "output_type": "stream",
     "text": [
      "7576it [00:02, 2583.21it/s]\n"
     ]
    },
    {
     "name": "stdout",
     "output_type": "stream",
     "text": [
      "\n",
      "all.json\n",
      "n: 7576\n",
      "Median index: 5.0\n",
      "Mean index: 35.051742344244985\n",
      "% in top 1: 29.329461457233368\n",
      "% in top 5:  49.128827877507916\n"
     ]
    },
    {
     "name": "stderr",
     "output_type": "stream",
     "text": [
      "74779it [00:28, 2590.51it/s]\n"
     ]
    },
    {
     "name": "stdout",
     "output_type": "stream",
     "text": [
      "\n",
      "all_huge.json\n",
      "n: 74779\n",
      "Median index: 2\n",
      "Mean index: 24.87777317161235\n",
      "% in top 1: 37.41959641075703\n",
      "% in top 5:  59.45252009253935\n"
     ]
    },
    {
     "name": "stderr",
     "output_type": "stream",
     "text": [
      "516it [00:00, 32251.86it/s]\n"
     ]
    },
    {
     "name": "stdout",
     "output_type": "stream",
     "text": [
      "\n",
      "cat20.json\n",
      "n: 516\n",
      "Median index: 1.0\n",
      "Mean index: 2.992248062015504\n",
      "% in top 1: 46.12403100775194\n",
      "% in top 5:  74.03100775193798\n"
     ]
    },
    {
     "name": "stderr",
     "output_type": "stream",
     "text": [
      "7576it [00:02, 2652.36it/s]\n"
     ]
    },
    {
     "name": "stdout",
     "output_type": "stream",
     "text": [
      "\n",
      "length.json\n",
      "n: 7576\n",
      "Median index: 69.0\n",
      "Mean index: 87.60256071805702\n",
      "% in top 1: 4.514255543822598\n",
      "% in top 5:  13.965153115100318\n"
     ]
    },
    {
     "name": "stderr",
     "output_type": "stream",
     "text": [
      "7576it [00:02, 2596.80it/s]\n"
     ]
    },
    {
     "name": "stdout",
     "output_type": "stream",
     "text": [
      "\n",
      "prefix.json\n",
      "n: 7576\n",
      "Median index: 18.0\n",
      "Mean index: 51.18914994720169\n",
      "% in top 1: 19.865364308342134\n",
      "% in top 5:  36.68162618796199\n"
     ]
    },
    {
     "name": "stderr",
     "output_type": "stream",
     "text": [
      "7576it [00:02, 2597.02it/s]\n"
     ]
    },
    {
     "name": "stdout",
     "output_type": "stream",
     "text": [
      "\n",
      "suffix.json\n",
      "n: 7576\n",
      "Median index: 19.0\n",
      "Mean index: 51.91776663146779\n",
      "% in top 1: 21.541710665258712\n",
      "% in top 5:  36.536430834213306\n"
     ]
    },
    {
     "name": "stderr",
     "output_type": "stream",
     "text": [
      "7576it [00:02, 2597.09it/s]"
     ]
    },
    {
     "name": "stdout",
     "output_type": "stream",
     "text": [
      "\n",
      "tags.json\n",
      "n: 7576\n",
      "Median index: 24.0\n",
      "Mean index: 53.01385955649419\n",
      "% in top 1: 18.149419218585006\n",
      "% in top 5:  33.553326293558605\n"
     ]
    },
    {
     "name": "stderr",
     "output_type": "stream",
     "text": [
      "\n"
     ]
    }
   ],
   "source": [
    "import glob\n",
    "from os.path import basename\n",
    "\n",
    "for filepath in glob.glob(\"google_eval_outputs/*.json\"):\n",
    "    evaluate_file(filepath)"
   ]
  }
 ],
 "metadata": {
  "kernelspec": {
   "display_name": "Python 3 (ipykernel)",
   "language": "python",
   "name": "python3"
  },
  "language_info": {
   "codemirror_mode": {
    "name": "ipython",
    "version": 3
   },
   "file_extension": ".py",
   "mimetype": "text/x-python",
   "name": "python",
   "nbconvert_exporter": "python",
   "pygments_lexer": "ipython3",
   "version": "3.9.6"
  }
 },
 "nbformat": 4,
 "nbformat_minor": 5
}
