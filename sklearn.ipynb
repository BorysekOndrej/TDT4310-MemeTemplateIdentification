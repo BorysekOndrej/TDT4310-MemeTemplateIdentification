{
 "cells": [
  {
   "cell_type": "markdown",
   "id": "eed61ba9",
   "metadata": {},
   "source": [
    "This approach is similar to the one I have used in Lab 03. I am using the text itself as the input and I am getting accuracy of just over 30%.\n",
    "\n",
    "Notably, when I use just the prefix or suffix (the part before or after the separator; or for memers known as top text and bottom text), the accuracy is still over 20%. I have considered clasifing them separately and then combining the results into one prediction for the whole meme, however I prioritized other experiments. It is therefore left as an exercise for the reader.\n",
    "\n",
    "Evaluation based on parts of speach tagging has accuracy of 6.68% and 11.63% depeneding on which tagset is used, whether universal or NLTK default.\n"
   ]
  },
  {
   "cell_type": "code",
   "execution_count": 6,
   "id": "83810560",
   "metadata": {},
   "outputs": [],
   "source": [
    "# !pip install transformers==4.2.2 tqdm numpy scikit-learn nltk pandas"
   ]
  },
  {
   "cell_type": "code",
   "execution_count": 7,
   "id": "d34b2aec",
   "metadata": {},
   "outputs": [],
   "source": [
    "# !nvidia-smi"
   ]
  },
  {
   "cell_type": "code",
   "execution_count": 8,
   "id": "fb7610a6",
   "metadata": {},
   "outputs": [],
   "source": [
    "# from google.colab import files\n",
    "\n",
    "# uploaded = files.upload()\n",
    "# uploaded"
   ]
  },
  {
   "cell_type": "code",
   "execution_count": 9,
   "id": "d181a953",
   "metadata": {},
   "outputs": [],
   "source": [
    "import pandas as pd\n",
    "from sklearn.feature_extraction.text import TfidfVectorizer\n",
    "from sklearn import datasets\n",
    "from sklearn.metrics import confusion_matrix\n",
    "from sklearn.model_selection import train_test_split"
   ]
  },
  {
   "cell_type": "code",
   "execution_count": 10,
   "id": "d17afb16-42bb-4df2-a817-9dcc1264d75e",
   "metadata": {
    "scrolled": true
   },
   "outputs": [
    {
     "data": {
      "text/html": [
       "<div>\n",
       "<style scoped>\n",
       "    .dataframe tbody tr th:only-of-type {\n",
       "        vertical-align: middle;\n",
       "    }\n",
       "\n",
       "    .dataframe tbody tr th {\n",
       "        vertical-align: top;\n",
       "    }\n",
       "\n",
       "    .dataframe thead th {\n",
       "        text-align: right;\n",
       "    }\n",
       "</style>\n",
       "<table border=\"1\" class=\"dataframe\">\n",
       "  <thead>\n",
       "    <tr style=\"text-align: right;\">\n",
       "      <th></th>\n",
       "      <th>MemeName</th>\n",
       "      <th>Text</th>\n",
       "      <th>prefix</th>\n",
       "      <th>suffix</th>\n",
       "      <th>TextWithoutSeparator_tagged_universal</th>\n",
       "      <th>TextWithoutSeparator_tagged_None</th>\n",
       "    </tr>\n",
       "  </thead>\n",
       "  <tbody>\n",
       "    <tr>\n",
       "      <th>0</th>\n",
       "      <td>Y U No</td>\n",
       "      <td>Forever alone guy &lt;sep&gt; y u no get cat</td>\n",
       "      <td>Forever alone guy</td>\n",
       "      <td>y u no get cat</td>\n",
       "      <td>ADV ADV ADJ NOUN VERB DET NOUN NOUN</td>\n",
       "      <td>RB RB JJ NNS VBP DT NN NN</td>\n",
       "    </tr>\n",
       "    <tr>\n",
       "      <th>1</th>\n",
       "      <td>Y U No</td>\n",
       "      <td>TEAMMATES &lt;sep&gt; Y U NO REVIVE ME?</td>\n",
       "      <td>TEAMMATES</td>\n",
       "      <td>Y U NO REVIVE ME?</td>\n",
       "      <td>NOUN NOUN NOUN NOUN NOUN NOUN .</td>\n",
       "      <td>NNP NNP NNP NNP NNP NNP .</td>\n",
       "    </tr>\n",
       "    <tr>\n",
       "      <th>2</th>\n",
       "      <td>Y U No</td>\n",
       "      <td>GIRLS &lt;sep&gt; Y U SO COMPLICATED ??!</td>\n",
       "      <td>GIRLS</td>\n",
       "      <td>Y U SO COMPLICATED ??!</td>\n",
       "      <td>NOUN NOUN NOUN NOUN NOUN . . .</td>\n",
       "      <td>NNP NNP NNP NNP NNP . . .</td>\n",
       "    </tr>\n",
       "    <tr>\n",
       "      <th>3</th>\n",
       "      <td>Y U No</td>\n",
       "      <td>I 'like' all your pics &lt;sep&gt; Y U No have sex w...</td>\n",
       "      <td>I 'like' all your pics</td>\n",
       "      <td>Y U No have sex with me?</td>\n",
       "      <td>PRON VERB . DET PRON NOUN NOUN NOUN NOUN VERB ...</td>\n",
       "      <td>PRP MD '' DT PRP$ NNS NNP NNP NNP VBP NN IN PRP .</td>\n",
       "    </tr>\n",
       "    <tr>\n",
       "      <th>4</th>\n",
       "      <td>Y U No</td>\n",
       "      <td>girls &lt;sep&gt; y u no stop making duck faces?!</td>\n",
       "      <td>girls</td>\n",
       "      <td>y u no stop making duck faces?!</td>\n",
       "      <td>NOUN VERB ADJ DET NOUN VERB ADJ VERB . .</td>\n",
       "      <td>NNS VBP JJ DT NN VBG JJ VBZ . .</td>\n",
       "    </tr>\n",
       "  </tbody>\n",
       "</table>\n",
       "</div>"
      ],
      "text/plain": [
       "  MemeName                                               Text  \\\n",
       "0   Y U No             Forever alone guy <sep> y u no get cat   \n",
       "1   Y U No                  TEAMMATES <sep> Y U NO REVIVE ME?   \n",
       "2   Y U No                 GIRLS <sep> Y U SO COMPLICATED ??!   \n",
       "3   Y U No  I 'like' all your pics <sep> Y U No have sex w...   \n",
       "4   Y U No        girls <sep> y u no stop making duck faces?!   \n",
       "\n",
       "                    prefix                            suffix  \\\n",
       "0       Forever alone guy                     y u no get cat   \n",
       "1               TEAMMATES                  Y U NO REVIVE ME?   \n",
       "2                   GIRLS             Y U SO COMPLICATED ??!   \n",
       "3  I 'like' all your pics           Y U No have sex with me?   \n",
       "4                   girls    y u no stop making duck faces?!   \n",
       "\n",
       "               TextWithoutSeparator_tagged_universal  \\\n",
       "0                ADV ADV ADJ NOUN VERB DET NOUN NOUN   \n",
       "1                    NOUN NOUN NOUN NOUN NOUN NOUN .   \n",
       "2                     NOUN NOUN NOUN NOUN NOUN . . .   \n",
       "3  PRON VERB . DET PRON NOUN NOUN NOUN NOUN VERB ...   \n",
       "4           NOUN VERB ADJ DET NOUN VERB ADJ VERB . .   \n",
       "\n",
       "                    TextWithoutSeparator_tagged_None  \n",
       "0                          RB RB JJ NNS VBP DT NN NN  \n",
       "1                          NNP NNP NNP NNP NNP NNP .  \n",
       "2                          NNP NNP NNP NNP NNP . . .  \n",
       "3  PRP MD '' DT PRP$ NNS NNP NNP NNP VBP NN IN PRP .  \n",
       "4                    NNS VBP JJ DT NN VBG JJ VBZ . .  "
      ]
     },
     "execution_count": 10,
     "metadata": {},
     "output_type": "execute_result"
    }
   ],
   "source": [
    "dataset = pd.read_csv('all.csv')\n",
    "dataset = dataset[[\"MemeName\", \"Text\", \"prefix\", \"suffix\", \"TextWithoutSeparator_tagged_universal\", \"TextWithoutSeparator_tagged_None\"]]\n",
    "dataset.head(5)"
   ]
  },
  {
   "cell_type": "code",
   "execution_count": 26,
   "id": "d09e3bf7",
   "metadata": {},
   "outputs": [],
   "source": [
    "\n",
    "\n",
    "def svc_complete(features: pd.Series, labels: pd.Series): \n",
    "\n",
    "    vectorizer = TfidfVectorizer()\n",
    "\n",
    "    # X -> features, y -> label\n",
    "    X = vectorizer.fit_transform(features)\n",
    "    y = labels\n",
    "\n",
    "    # https://www.geeksforgeeks.org/multiclass-classification-using-scikit-learn/\n",
    "    # dividing X, y into train and test data\n",
    "    X_train, X_test, y_train, y_test = train_test_split(X, y, random_state = 0)\n",
    "\n",
    "    # training a linear SVM classifier\n",
    "    from sklearn.svm import SVC, LinearSVC\n",
    "    svm_model_linear = SVC(kernel = 'linear', C = 1).fit(X_train, y_train)\n",
    "#     svm_model_linear = LinearSVC().fit(X_train, y_train)\n",
    "    svm_predictions = svm_model_linear.predict(X_test)\n",
    "\n",
    "    # model accuracy for X_test \n",
    "    accuracy = svm_model_linear.score(X_test, y_test)\n",
    "\n",
    "    # creating a confusion matrix\n",
    "    cm = confusion_matrix(y_test, svm_predictions)\n",
    "\n",
    "    return svm_model_linear, accuracy, cm\n",
    "\n"
   ]
  },
  {
   "cell_type": "code",
   "execution_count": 12,
   "id": "92a40579",
   "metadata": {},
   "outputs": [
    {
     "data": {
      "text/plain": [
       "0.30458666666666667"
      ]
     },
     "execution_count": 12,
     "metadata": {},
     "output_type": "execute_result"
    }
   ],
   "source": [
    "m_text, accuracy, cm_text = svc_complete(dataset.Text, dataset.MemeName)\n",
    "accuracy"
   ]
  },
  {
   "cell_type": "code",
   "execution_count": 27,
   "id": "c8719374",
   "metadata": {},
   "outputs": [
    {
     "data": {
      "text/plain": [
       "0.2966933333333333"
      ]
     },
     "execution_count": 27,
     "metadata": {},
     "output_type": "execute_result"
    }
   ],
   "source": [
    "# This cell was calculated with LinearSVC instead of SVC\n",
    "# That massively improved speed, but slightly (0.5%) lowered accuracy.\n",
    "# _, accuracy, _ = svc_complete(dataset.Text, dataset.MemeName)\n",
    "# accuracy"
   ]
  },
  {
   "cell_type": "code",
   "execution_count": 13,
   "id": "da0d7c46",
   "metadata": {},
   "outputs": [
    {
     "data": {
      "text/plain": [
       "0.20181333333333334"
      ]
     },
     "execution_count": 13,
     "metadata": {},
     "output_type": "execute_result"
    }
   ],
   "source": [
    "m_prefix, accuracy, cm_prefix = svc_complete(dataset.prefix, dataset.MemeName)\n",
    "accuracy"
   ]
  },
  {
   "cell_type": "code",
   "execution_count": 14,
   "id": "13b25a7a",
   "metadata": {},
   "outputs": [
    {
     "data": {
      "text/plain": [
       "0.20602666666666666"
      ]
     },
     "execution_count": 14,
     "metadata": {},
     "output_type": "execute_result"
    }
   ],
   "source": [
    "m_suffix, accuracy, cm_suffix = svc_complete(dataset.suffix, dataset.MemeName)\n",
    "accuracy"
   ]
  },
  {
   "cell_type": "code",
   "execution_count": 15,
   "id": "66a5dade",
   "metadata": {},
   "outputs": [
    {
     "data": {
      "text/plain": [
       "0.06682666666666667"
      ]
     },
     "execution_count": 15,
     "metadata": {},
     "output_type": "execute_result"
    }
   ],
   "source": [
    "_, accuracy, _ = svc_complete(dataset.TextWithoutSeparator_tagged_universal, dataset.MemeName)\n",
    "accuracy"
   ]
  },
  {
   "cell_type": "code",
   "execution_count": 16,
   "id": "99bb54c8",
   "metadata": {},
   "outputs": [
    {
     "data": {
      "text/plain": [
       "0.11632"
      ]
     },
     "execution_count": 16,
     "metadata": {},
     "output_type": "execute_result"
    }
   ],
   "source": [
    "_, accuracy, _ = svc_complete(dataset.TextWithoutSeparator_tagged_None, dataset.MemeName)\n",
    "accuracy"
   ]
  }
 ],
 "metadata": {
  "kernelspec": {
   "display_name": "Python 3 (ipykernel)",
   "language": "python",
   "name": "python3"
  },
  "language_info": {
   "codemirror_mode": {
    "name": "ipython",
    "version": 3
   },
   "file_extension": ".py",
   "mimetype": "text/x-python",
   "name": "python",
   "nbconvert_exporter": "python",
   "pygments_lexer": "ipython3",
   "version": "3.9.6"
  }
 },
 "nbformat": 4,
 "nbformat_minor": 5
}
