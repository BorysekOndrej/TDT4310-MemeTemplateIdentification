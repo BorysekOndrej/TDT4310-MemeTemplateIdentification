{
 "cells": [
  {
   "cell_type": "markdown",
   "metadata": {},
   "source": [
    "\n",
    "This notebook is based on tutorial for Basic text classification (Sentiment analysis) published on [tensorflow.org](https://www.tensorflow.org/tutorials/keras/text_classification) which I've modified to support multiclass classification.\n",
    "\n",
    "I've also tried to fine tune the model by trying different combination of layers, however it turned that the tutorial provides reasonable defaults that are hard to beat. In addition, experimenting with LSTM layers proved to be difficult as adding them significantly slowed down the training. Suprisingly enough their inclusion did not improve the accuracy - in fact the exact opposite happend. The highest accuracy achieved while LSTM layer was part of the model was just above 12%, which less than half of otherwise achived accuracy.\n",
    "\n",
    "The biggest gain for accuracy was made by finding the sweet spot for number of epochs, so that the model doesn't start to overfit. For that I've used the graphs available at the end of this notebook. With that and other improvements described below I've achieved the highest accuracy (on validation dataset) of 25.6%. More specifically - the result precise to 6 significant digits was 25.666666% which I can only assume is a sign that I should not tempt fate further.\n",
    "\n",
    "Increasing number of embeding dimmensions from 16 to 32 had negligable impact on accuracy.\n",
    "\n",
    "Changing the maximum number of extracted words (tested for max dictionary size 1 500, 10 000 and 38 000) had a mesurable impact on accuracy - 18%, 23% and 24% respectively. I've decided to stick with dictionary size of 10 000 to limit the number of trainable nodes, as any additional nodes seemed to have very diminishing returns.\n",
    "\n",
    "Teaching the neural network not on the raw texts, but rather on universal PoS tags was surprisingly (in)accurate - the reached accuracy was 4.62% after 50 iterations with usage of 14 distinct PoS tags. That is more than 10 times more effective, than a random labeling strategy which has accuracy of 0.33%. \n",
    "\n",
    "Based on manual inspection of the confidence levels for templates I've noticed that some templates have nearly 100% accuracy in detection and nearly 0% of false positives. In general these seem to be templates that ussualy contain the same long phrase - for example \"I do not think it means what you think it means\". The high accuracy also occurs when just universal PoS tags are provided as input. This was confirmed (and better visualised) in the Google Machine Learning interface (see relevant section of the report).\n"
   ]
  },
  {
   "cell_type": "code",
   "execution_count": 49,
   "metadata": {
    "id": "8RZOuS9LWQvv"
   },
   "outputs": [],
   "source": [
    "import matplotlib.pyplot as plt\n",
    "import os\n",
    "import re\n",
    "import shutil\n",
    "import string\n",
    "import tensorflow as tf\n",
    "\n",
    "from tensorflow.keras import layers\n",
    "from tensorflow.keras import losses\n",
    "from typing import Tuple\n"
   ]
  },
  {
   "cell_type": "code",
   "execution_count": 2,
   "metadata": {
    "colab": {
     "base_uri": "https://localhost:8080/"
    },
    "id": "SpLdbNlzzU36",
    "outputId": "14807941-6d37-437a-ca87-0e51e9bb2b04"
   },
   "outputs": [
    {
     "name": "stdout",
     "output_type": "stream",
     "text": [
      "Num GPUs Available:  0\n"
     ]
    }
   ],
   "source": [
    "print(\"Num GPUs Available: \", len(tf.config.list_physical_devices('GPU')))\n",
    "\n",
    "# tf.debugging.set_log_device_placement(True)"
   ]
  },
  {
   "cell_type": "markdown",
   "metadata": {
    "id": "iAsKG535pHep"
   },
   "source": [
    "### Download dataset\n"
   ]
  },
  {
   "cell_type": "code",
   "execution_count": 3,
   "metadata": {
    "colab": {
     "base_uri": "https://localhost:8080/"
    },
    "id": "k7ZYnuajVlFN",
    "outputId": "fb439af3-c764-4169-f097-a0ee4267db88"
   },
   "outputs": [],
   "source": [
    "url = \"https://www.fi.muni.cz/~xborysek/custom_dataset.zip\"\n",
    "# url = \"https://www.fi.muni.cz/~xborysek/pos_dataset.zip\"\n",
    "\n",
    "\n",
    "dataset = tf.keras.utils.get_file(\"custom_dataset2\", url,\n",
    "# dataset = tf.keras.utils.get_file(\"pos_dataset\", url,\n",
    "                                    extract=True, cache_dir='.',\n",
    "                                    cache_subdir='')\n",
    "\n",
    "dataset_dir = os.path.join(os.path.dirname(dataset), '.')"
   ]
  },
  {
   "cell_type": "code",
   "execution_count": 26,
   "metadata": {
    "colab": {
     "base_uri": "https://localhost:8080/"
    },
    "id": "355CfOvsV1pl",
    "outputId": "0ab82d86-5918-441d-cf31-c25027d89d9f"
   },
   "outputs": [],
   "source": [
    "# os.listdir(dataset_dir)"
   ]
  },
  {
   "cell_type": "code",
   "execution_count": 5,
   "metadata": {
    "colab": {
     "base_uri": "https://localhost:8080/"
    },
    "id": "7ASND15oXpF1",
    "outputId": "5a23d6b9-d3fa-41b8-fcc1-763d42d79894"
   },
   "outputs": [],
   "source": [
    "train_dir = os.path.join(dataset_dir, 'train')\n",
    "number_of_labels = len(os.listdir(train_dir))\n",
    "\n",
    "# os.listdir(train_dir)"
   ]
  },
  {
   "cell_type": "markdown",
   "metadata": {
    "id": "Mk20TEm6ZRFP"
   },
   "source": [
    "### Load the dataset\n"
   ]
  },
  {
   "cell_type": "code",
   "execution_count": 6,
   "metadata": {
    "colab": {
     "base_uri": "https://localhost:8080/"
    },
    "id": "nOrK-MTYaw3C",
    "outputId": "00aea0a4-d28c-47cf-9aff-fb0c5c912b52"
   },
   "outputs": [
    {
     "name": "stdout",
     "output_type": "stream",
     "text": [
      "Found 60000 files belonging to 299 classes.\n",
      "Using 48000 files for training.\n"
     ]
    }
   ],
   "source": [
    "batch_size = 32\n",
    "seed = 42\n",
    "\n",
    "raw_train_ds = tf.keras.utils.text_dataset_from_directory(\n",
    "    './train', \n",
    "    batch_size=batch_size, \n",
    "    validation_split=0.2, \n",
    "    subset='training', \n",
    "    seed=seed)"
   ]
  },
  {
   "cell_type": "code",
   "execution_count": 7,
   "metadata": {
    "colab": {
     "base_uri": "https://localhost:8080/"
    },
    "id": "JsMwwhOoqjKF",
    "outputId": "b6ee6aac-c533-4d35-a64f-aaba4bde35d9"
   },
   "outputs": [
    {
     "name": "stdout",
     "output_type": "stream",
     "text": [
      "Found 60000 files belonging to 299 classes.\n",
      "Using 12000 files for validation.\n"
     ]
    }
   ],
   "source": [
    "raw_val_ds = tf.keras.utils.text_dataset_from_directory(\n",
    "    './train', \n",
    "    batch_size=batch_size, \n",
    "    validation_split=0.2, \n",
    "    subset='validation', \n",
    "    seed=seed)"
   ]
  },
  {
   "cell_type": "code",
   "execution_count": 8,
   "metadata": {
    "colab": {
     "base_uri": "https://localhost:8080/"
    },
    "id": "rdSr0Nt3q_ns",
    "outputId": "8d93bc49-4f3d-4a9a-a2ab-b7285d3ada7f"
   },
   "outputs": [
    {
     "name": "stdout",
     "output_type": "stream",
     "text": [
      "Found 15000 files belonging to 299 classes.\n"
     ]
    }
   ],
   "source": [
    "raw_test_ds = tf.keras.utils.text_dataset_from_directory(\n",
    "    './test', \n",
    "    batch_size=batch_size)"
   ]
  },
  {
   "cell_type": "markdown",
   "metadata": {
    "id": "qJmTiO0IYAjm"
   },
   "source": [
    "### Prepare the dataset for training\n",
    "\n"
   ]
  },
  {
   "cell_type": "code",
   "execution_count": 9,
   "metadata": {
    "id": "SDRI_s_tX1Hk"
   },
   "outputs": [],
   "source": [
    "def custom_standardization(input_data):\n",
    "    lowercase = tf.strings.lower(input_data)\n",
    "    stripped_html = tf.strings.regex_replace(lowercase, '<br />', ' ')\n",
    "    return tf.strings.regex_replace(stripped_html,\n",
    "                                  '[%s]' % re.escape(string.punctuation),\n",
    "                                  '')"
   ]
  },
  {
   "cell_type": "code",
   "execution_count": 10,
   "metadata": {
    "id": "-c76RvSzsMnX"
   },
   "outputs": [],
   "source": [
    "max_features = 10000 # orig 10000\n",
    "sequence_length = 250\n",
    "\n",
    "vectorize_layer = layers.TextVectorization(\n",
    "    standardize=custom_standardization,\n",
    "    max_tokens=max_features,\n",
    "    output_mode='int',\n",
    "    output_sequence_length=sequence_length)"
   ]
  },
  {
   "cell_type": "code",
   "execution_count": 11,
   "metadata": {
    "id": "GH4_2ZGJsa_X"
   },
   "outputs": [],
   "source": [
    "train_text = raw_train_ds.map(lambda x, y: x)\n",
    "vectorize_layer.adapt(train_text)"
   ]
  },
  {
   "cell_type": "code",
   "execution_count": 12,
   "metadata": {
    "id": "SCIg_T50wOCU"
   },
   "outputs": [],
   "source": [
    "def vectorize_text(text, label):\n",
    "    text = tf.expand_dims(text, -1)\n",
    "    return vectorize_layer(text), label"
   ]
  },
  {
   "cell_type": "code",
   "execution_count": 13,
   "metadata": {
    "colab": {
     "base_uri": "https://localhost:8080/"
    },
    "id": "kRq9hTQzhVhW",
    "outputId": "121e2958-0a57-4d6c-b805-1fe97773db9c"
   },
   "outputs": [
    {
     "name": "stdout",
     "output_type": "stream",
     "text": [
      "Vocabulary size: 10000\n"
     ]
    }
   ],
   "source": [
    "print('Vocabulary size: {}'.format(len(vectorize_layer.get_vocabulary())))"
   ]
  },
  {
   "cell_type": "code",
   "execution_count": 14,
   "metadata": {
    "id": "2zhmpeViI1iG"
   },
   "outputs": [],
   "source": [
    "train_ds = raw_train_ds.map(vectorize_text)\n",
    "val_ds = raw_val_ds.map(vectorize_text)\n",
    "test_ds = raw_test_ds.map(vectorize_text)"
   ]
  },
  {
   "cell_type": "markdown",
   "metadata": {
    "id": "YsVQyPMizjuO"
   },
   "source": [
    "### Configure the dataset for performance\n"
   ]
  },
  {
   "cell_type": "code",
   "execution_count": 15,
   "metadata": {
    "id": "wMcs_H7izm5m"
   },
   "outputs": [],
   "source": [
    "AUTOTUNE = tf.data.AUTOTUNE\n",
    "\n",
    "train_ds = train_ds.cache().prefetch(buffer_size=AUTOTUNE)\n",
    "val_ds = val_ds.cache().prefetch(buffer_size=AUTOTUNE)\n",
    "test_ds = test_ds.cache().prefetch(buffer_size=AUTOTUNE)"
   ]
  },
  {
   "cell_type": "markdown",
   "metadata": {
    "id": "LLC02j2g-llC"
   },
   "source": [
    "### Create the model\n"
   ]
  },
  {
   "cell_type": "code",
   "execution_count": 16,
   "metadata": {
    "id": "dkQP6in8yUBR"
   },
   "outputs": [],
   "source": [
    "embedding_dim = 16"
   ]
  },
  {
   "cell_type": "code",
   "execution_count": 17,
   "metadata": {
    "colab": {
     "base_uri": "https://localhost:8080/"
    },
    "id": "xpKOoWgu-llD",
    "outputId": "97cab404-930c-4ed9-a1f5-aaf5c0330613"
   },
   "outputs": [
    {
     "name": "stdout",
     "output_type": "stream",
     "text": [
      "Model: \"sequential\"\n",
      "_________________________________________________________________\n",
      " Layer (type)                Output Shape              Param #   \n",
      "=================================================================\n",
      " embedding (Embedding)       (None, None, 16)          160016    \n",
      "                                                                 \n",
      " dropout (Dropout)           (None, None, 16)          0         \n",
      "                                                                 \n",
      " global_average_pooling1d (G  (None, 16)               0         \n",
      " lobalAveragePooling1D)                                          \n",
      "                                                                 \n",
      " dropout_1 (Dropout)         (None, 16)                0         \n",
      "                                                                 \n",
      " dense (Dense)               (None, 299)               5083      \n",
      "                                                                 \n",
      "=================================================================\n",
      "Total params: 165,099\n",
      "Trainable params: 165,099\n",
      "Non-trainable params: 0\n",
      "_________________________________________________________________\n"
     ]
    }
   ],
   "source": [
    "model = tf.keras.Sequential([\n",
    "  layers.Embedding(max_features + 1, embedding_dim),\n",
    "  layers.Dropout(0.2),\n",
    "#   layers.Dense(8),\n",
    "#   layers.Dense(8),\n",
    "  layers.GlobalAveragePooling1D(),\n",
    "  layers.Dropout(0.2),\n",
    "  layers.Dense(number_of_labels)\n",
    "  # layers.Dense(number_of_labels, activation='softmax')\n",
    "])\n",
    "\n",
    "model.summary()"
   ]
  },
  {
   "cell_type": "markdown",
   "metadata": {
    "id": "L4EqVWg4-llM"
   },
   "source": [
    "### Loss function and optimizer\n"
   ]
  },
  {
   "cell_type": "code",
   "execution_count": 18,
   "metadata": {
    "id": "Mr0GP-cQ-llN"
   },
   "outputs": [],
   "source": [
    "# model.compile(loss='categorical_crossentropy',\n",
    "model.compile(loss=losses.SparseCategoricalCrossentropy(from_logits=True),\n",
    "              optimizer='adam',\n",
    "#              metrics=tf.metrics.BinaryAccuracy(threshold=0.0))\n",
    "              metrics=['accuracy'])"
   ]
  },
  {
   "cell_type": "markdown",
   "metadata": {
    "id": "35jv_fzP-llU"
   },
   "source": [
    "### Train the model\n"
   ]
  },
  {
   "cell_type": "code",
   "execution_count": 19,
   "metadata": {
    "colab": {
     "base_uri": "https://localhost:8080/"
    },
    "id": "tXSGrjWZ-llW",
    "outputId": "2db2b410-cf40-4288-e505-311e99e50b70"
   },
   "outputs": [
    {
     "name": "stdout",
     "output_type": "stream",
     "text": [
      "Epoch 1/150\n",
      "1500/1500 [==============================] - 19s 13ms/step - loss: 5.7005 - accuracy: 0.0064 - val_loss: 5.6999 - val_accuracy: 0.0064\n",
      "Epoch 2/150\n",
      "1500/1500 [==============================] - 4s 3ms/step - loss: 5.6945 - accuracy: 0.0068 - val_loss: 5.6923 - val_accuracy: 0.0064\n",
      "Epoch 3/150\n",
      "1500/1500 [==============================] - 4s 3ms/step - loss: 5.6781 - accuracy: 0.0076 - val_loss: 5.6705 - val_accuracy: 0.0129\n",
      "Epoch 4/150\n",
      "1500/1500 [==============================] - 4s 3ms/step - loss: 5.6445 - accuracy: 0.0156 - val_loss: 5.6292 - val_accuracy: 0.0259\n",
      "Epoch 5/150\n",
      "1500/1500 [==============================] - 4s 3ms/step - loss: 5.5905 - accuracy: 0.0243 - val_loss: 5.5688 - val_accuracy: 0.0299\n",
      "Epoch 6/150\n",
      "1500/1500 [==============================] - 4s 3ms/step - loss: 5.5204 - accuracy: 0.0326 - val_loss: 5.4959 - val_accuracy: 0.0397\n",
      "Epoch 7/150\n",
      "1500/1500 [==============================] - 4s 3ms/step - loss: 5.4421 - accuracy: 0.0463 - val_loss: 5.4195 - val_accuracy: 0.0531\n",
      "Epoch 8/150\n",
      "1500/1500 [==============================] - 4s 3ms/step - loss: 5.3645 - accuracy: 0.0620 - val_loss: 5.3442 - val_accuracy: 0.0707\n",
      "Epoch 9/150\n",
      "1500/1500 [==============================] - 4s 3ms/step - loss: 5.2890 - accuracy: 0.0768 - val_loss: 5.2712 - val_accuracy: 0.0893\n",
      "Epoch 10/150\n",
      "1500/1500 [==============================] - 4s 3ms/step - loss: 5.2177 - accuracy: 0.0910 - val_loss: 5.2022 - val_accuracy: 0.1007\n",
      "Epoch 11/150\n",
      "1500/1500 [==============================] - 4s 3ms/step - loss: 5.1479 - accuracy: 0.1010 - val_loss: 5.1346 - val_accuracy: 0.1158\n",
      "Epoch 12/150\n",
      "1500/1500 [==============================] - 4s 3ms/step - loss: 5.0823 - accuracy: 0.1079 - val_loss: 5.0693 - val_accuracy: 0.1281\n",
      "Epoch 13/150\n",
      "1500/1500 [==============================] - 4s 3ms/step - loss: 5.0184 - accuracy: 0.1154 - val_loss: 5.0066 - val_accuracy: 0.1343\n",
      "Epoch 14/150\n",
      "1500/1500 [==============================] - 4s 3ms/step - loss: 4.9581 - accuracy: 0.1202 - val_loss: 4.9463 - val_accuracy: 0.1393\n",
      "Epoch 15/150\n",
      "1500/1500 [==============================] - 4s 3ms/step - loss: 4.9021 - accuracy: 0.1251 - val_loss: 4.8892 - val_accuracy: 0.1443\n",
      "Epoch 16/150\n",
      "1500/1500 [==============================] - 4s 3ms/step - loss: 4.8463 - accuracy: 0.1304 - val_loss: 4.8356 - val_accuracy: 0.1499\n",
      "Epoch 17/150\n",
      "1500/1500 [==============================] - 4s 3ms/step - loss: 4.7977 - accuracy: 0.1338 - val_loss: 4.7855 - val_accuracy: 0.1539\n",
      "Epoch 18/150\n",
      "1500/1500 [==============================] - 4s 3ms/step - loss: 4.7487 - accuracy: 0.1385 - val_loss: 4.7375 - val_accuracy: 0.1586\n",
      "Epoch 19/150\n",
      "1500/1500 [==============================] - 4s 3ms/step - loss: 4.7034 - accuracy: 0.1441 - val_loss: 4.6941 - val_accuracy: 0.1608\n",
      "Epoch 20/150\n",
      "1500/1500 [==============================] - 4s 3ms/step - loss: 4.6637 - accuracy: 0.1443 - val_loss: 4.6534 - val_accuracy: 0.1641\n",
      "Epoch 21/150\n",
      "1500/1500 [==============================] - 4s 3ms/step - loss: 4.6275 - accuracy: 0.1479 - val_loss: 4.6156 - val_accuracy: 0.1675\n",
      "Epoch 22/150\n",
      "1500/1500 [==============================] - 4s 3ms/step - loss: 4.5918 - accuracy: 0.1510 - val_loss: 4.5801 - val_accuracy: 0.1698\n",
      "Epoch 23/150\n",
      "1500/1500 [==============================] - 4s 3ms/step - loss: 4.5595 - accuracy: 0.1548 - val_loss: 4.5477 - val_accuracy: 0.1725\n",
      "Epoch 24/150\n",
      "1500/1500 [==============================] - 4s 3ms/step - loss: 4.5303 - accuracy: 0.1574 - val_loss: 4.5178 - val_accuracy: 0.1747\n",
      "Epoch 25/150\n",
      "1500/1500 [==============================] - 4s 3ms/step - loss: 4.4970 - accuracy: 0.1611 - val_loss: 4.4895 - val_accuracy: 0.1779\n",
      "Epoch 26/150\n",
      "1500/1500 [==============================] - 4s 3ms/step - loss: 4.4711 - accuracy: 0.1624 - val_loss: 4.4623 - val_accuracy: 0.1805\n",
      "Epoch 27/150\n",
      "1500/1500 [==============================] - 4s 3ms/step - loss: 4.4450 - accuracy: 0.1650 - val_loss: 4.4374 - val_accuracy: 0.1829\n",
      "Epoch 28/150\n",
      "1500/1500 [==============================] - 4s 3ms/step - loss: 4.4223 - accuracy: 0.1667 - val_loss: 4.4144 - val_accuracy: 0.1842\n",
      "Epoch 29/150\n",
      "1500/1500 [==============================] - 4s 3ms/step - loss: 4.3975 - accuracy: 0.1711 - val_loss: 4.3918 - val_accuracy: 0.1867\n",
      "Epoch 30/150\n",
      "1500/1500 [==============================] - 4s 3ms/step - loss: 4.3757 - accuracy: 0.1724 - val_loss: 4.3713 - val_accuracy: 0.1887\n",
      "Epoch 31/150\n",
      "1500/1500 [==============================] - 4s 3ms/step - loss: 4.3544 - accuracy: 0.1750 - val_loss: 4.3524 - val_accuracy: 0.1902\n",
      "Epoch 32/150\n",
      "1500/1500 [==============================] - 4s 3ms/step - loss: 4.3363 - accuracy: 0.1751 - val_loss: 4.3333 - val_accuracy: 0.1922\n",
      "Epoch 33/150\n",
      "1500/1500 [==============================] - 4s 3ms/step - loss: 4.3183 - accuracy: 0.1792 - val_loss: 4.3161 - val_accuracy: 0.1933\n",
      "Epoch 34/150\n",
      "1500/1500 [==============================] - 4s 3ms/step - loss: 4.2981 - accuracy: 0.1790 - val_loss: 4.2983 - val_accuracy: 0.1958\n",
      "Epoch 35/150\n",
      "1500/1500 [==============================] - 4s 3ms/step - loss: 4.2862 - accuracy: 0.1791 - val_loss: 4.2833 - val_accuracy: 0.1975\n",
      "Epoch 36/150\n",
      "1500/1500 [==============================] - 4s 3ms/step - loss: 4.2692 - accuracy: 0.1800 - val_loss: 4.2681 - val_accuracy: 0.1997\n",
      "Epoch 37/150\n",
      "1500/1500 [==============================] - 4s 3ms/step - loss: 4.2503 - accuracy: 0.1848 - val_loss: 4.2541 - val_accuracy: 0.2017\n",
      "Epoch 38/150\n",
      "1500/1500 [==============================] - 4s 3ms/step - loss: 4.2350 - accuracy: 0.1857 - val_loss: 4.2411 - val_accuracy: 0.2023\n",
      "Epoch 39/150\n",
      "1500/1500 [==============================] - 4s 3ms/step - loss: 4.2184 - accuracy: 0.1882 - val_loss: 4.2269 - val_accuracy: 0.2049\n",
      "Epoch 40/150\n",
      "1500/1500 [==============================] - 4s 3ms/step - loss: 4.2077 - accuracy: 0.1882 - val_loss: 4.2145 - val_accuracy: 0.2055\n",
      "Epoch 41/150\n",
      "1500/1500 [==============================] - 4s 3ms/step - loss: 4.1948 - accuracy: 0.1901 - val_loss: 4.2030 - val_accuracy: 0.2081\n",
      "Epoch 42/150\n",
      "1500/1500 [==============================] - 4s 3ms/step - loss: 4.1807 - accuracy: 0.1919 - val_loss: 4.1920 - val_accuracy: 0.2073\n",
      "Epoch 43/150\n",
      "1500/1500 [==============================] - 4s 3ms/step - loss: 4.1659 - accuracy: 0.1931 - val_loss: 4.1815 - val_accuracy: 0.2080\n",
      "Epoch 44/150\n",
      "1500/1500 [==============================] - 4s 3ms/step - loss: 4.1575 - accuracy: 0.1951 - val_loss: 4.1705 - val_accuracy: 0.2108\n",
      "Epoch 45/150\n",
      "1500/1500 [==============================] - 4s 3ms/step - loss: 4.1439 - accuracy: 0.1971 - val_loss: 4.1617 - val_accuracy: 0.2109\n",
      "Epoch 46/150\n",
      "1500/1500 [==============================] - 4s 3ms/step - loss: 4.1350 - accuracy: 0.1970 - val_loss: 4.1516 - val_accuracy: 0.2128\n",
      "Epoch 47/150\n",
      "1500/1500 [==============================] - 4s 3ms/step - loss: 4.1191 - accuracy: 0.1999 - val_loss: 4.1428 - val_accuracy: 0.2145\n",
      "Epoch 48/150\n",
      "1500/1500 [==============================] - 4s 3ms/step - loss: 4.1132 - accuracy: 0.1991 - val_loss: 4.1343 - val_accuracy: 0.2150\n",
      "Epoch 49/150\n",
      "1500/1500 [==============================] - 4s 3ms/step - loss: 4.0986 - accuracy: 0.2018 - val_loss: 4.1255 - val_accuracy: 0.2152\n",
      "Epoch 50/150\n",
      "1500/1500 [==============================] - 4s 3ms/step - loss: 4.0878 - accuracy: 0.2040 - val_loss: 4.1174 - val_accuracy: 0.2165\n",
      "Epoch 51/150\n",
      "1500/1500 [==============================] - 4s 3ms/step - loss: 4.0836 - accuracy: 0.2007 - val_loss: 4.1100 - val_accuracy: 0.2177\n",
      "Epoch 52/150\n",
      "1500/1500 [==============================] - 4s 3ms/step - loss: 4.0709 - accuracy: 0.2042 - val_loss: 4.1014 - val_accuracy: 0.2174\n",
      "Epoch 53/150\n",
      "1500/1500 [==============================] - 4s 3ms/step - loss: 4.0577 - accuracy: 0.2050 - val_loss: 4.0949 - val_accuracy: 0.2188\n",
      "Epoch 54/150\n",
      "1500/1500 [==============================] - 4s 3ms/step - loss: 4.0484 - accuracy: 0.2052 - val_loss: 4.0877 - val_accuracy: 0.2202\n",
      "Epoch 55/150\n",
      "1500/1500 [==============================] - 4s 3ms/step - loss: 4.0399 - accuracy: 0.2060 - val_loss: 4.0804 - val_accuracy: 0.2198\n",
      "Epoch 56/150\n",
      "1500/1500 [==============================] - 4s 3ms/step - loss: 4.0289 - accuracy: 0.2096 - val_loss: 4.0744 - val_accuracy: 0.2218\n",
      "Epoch 57/150\n",
      "1500/1500 [==============================] - 4s 3ms/step - loss: 4.0236 - accuracy: 0.2113 - val_loss: 4.0687 - val_accuracy: 0.2215\n",
      "Epoch 58/150\n",
      "1500/1500 [==============================] - 4s 3ms/step - loss: 4.0138 - accuracy: 0.2126 - val_loss: 4.0606 - val_accuracy: 0.2231\n",
      "Epoch 59/150\n",
      "1500/1500 [==============================] - 4s 3ms/step - loss: 4.0065 - accuracy: 0.2132 - val_loss: 4.0546 - val_accuracy: 0.2245\n",
      "Epoch 60/150\n",
      "1500/1500 [==============================] - 4s 3ms/step - loss: 3.9978 - accuracy: 0.2138 - val_loss: 4.0489 - val_accuracy: 0.2240\n",
      "Epoch 61/150\n",
      "1500/1500 [==============================] - 4s 3ms/step - loss: 3.9833 - accuracy: 0.2143 - val_loss: 4.0426 - val_accuracy: 0.2239\n",
      "Epoch 62/150\n",
      "1500/1500 [==============================] - 4s 3ms/step - loss: 3.9784 - accuracy: 0.2161 - val_loss: 4.0370 - val_accuracy: 0.2253\n",
      "Epoch 63/150\n",
      "1500/1500 [==============================] - 4s 3ms/step - loss: 3.9734 - accuracy: 0.2177 - val_loss: 4.0320 - val_accuracy: 0.2256\n",
      "Epoch 64/150\n",
      "1500/1500 [==============================] - 4s 3ms/step - loss: 3.9666 - accuracy: 0.2160 - val_loss: 4.0275 - val_accuracy: 0.2258\n",
      "Epoch 65/150\n",
      "1500/1500 [==============================] - 4s 3ms/step - loss: 3.9576 - accuracy: 0.2183 - val_loss: 4.0218 - val_accuracy: 0.2266\n",
      "Epoch 66/150\n",
      "1500/1500 [==============================] - 4s 3ms/step - loss: 3.9496 - accuracy: 0.2176 - val_loss: 4.0158 - val_accuracy: 0.2280\n",
      "Epoch 67/150\n",
      "1500/1500 [==============================] - 4s 3ms/step - loss: 3.9389 - accuracy: 0.2208 - val_loss: 4.0109 - val_accuracy: 0.2282\n",
      "Epoch 68/150\n",
      "1500/1500 [==============================] - 4s 3ms/step - loss: 3.9329 - accuracy: 0.2206 - val_loss: 4.0062 - val_accuracy: 0.2288\n",
      "Epoch 69/150\n",
      "1500/1500 [==============================] - 4s 3ms/step - loss: 3.9245 - accuracy: 0.2235 - val_loss: 4.0006 - val_accuracy: 0.2281\n",
      "Epoch 70/150\n",
      "1500/1500 [==============================] - 4s 3ms/step - loss: 3.9169 - accuracy: 0.2238 - val_loss: 3.9976 - val_accuracy: 0.2298\n",
      "Epoch 71/150\n",
      "1500/1500 [==============================] - 4s 3ms/step - loss: 3.9131 - accuracy: 0.2245 - val_loss: 3.9924 - val_accuracy: 0.2295\n",
      "Epoch 72/150\n",
      "1500/1500 [==============================] - 4s 3ms/step - loss: 3.8992 - accuracy: 0.2253 - val_loss: 3.9872 - val_accuracy: 0.2295\n",
      "Epoch 73/150\n",
      "1500/1500 [==============================] - 4s 3ms/step - loss: 3.9009 - accuracy: 0.2244 - val_loss: 3.9830 - val_accuracy: 0.2313\n",
      "Epoch 74/150\n",
      "1500/1500 [==============================] - 4s 3ms/step - loss: 3.8917 - accuracy: 0.2273 - val_loss: 3.9781 - val_accuracy: 0.2318\n",
      "Epoch 75/150\n",
      "1500/1500 [==============================] - 4s 3ms/step - loss: 3.8846 - accuracy: 0.2249 - val_loss: 3.9746 - val_accuracy: 0.2327\n",
      "Epoch 76/150\n",
      "1500/1500 [==============================] - 4s 3ms/step - loss: 3.8762 - accuracy: 0.2285 - val_loss: 3.9706 - val_accuracy: 0.2327\n",
      "Epoch 77/150\n",
      "1500/1500 [==============================] - 4s 3ms/step - loss: 3.8763 - accuracy: 0.2298 - val_loss: 3.9663 - val_accuracy: 0.2326\n",
      "Epoch 78/150\n",
      "1500/1500 [==============================] - 4s 3ms/step - loss: 3.8608 - accuracy: 0.2313 - val_loss: 3.9617 - val_accuracy: 0.2350\n",
      "Epoch 79/150\n",
      "1500/1500 [==============================] - 4s 3ms/step - loss: 3.8547 - accuracy: 0.2307 - val_loss: 3.9575 - val_accuracy: 0.2352\n",
      "Epoch 80/150\n",
      "1500/1500 [==============================] - 4s 3ms/step - loss: 3.8501 - accuracy: 0.2312 - val_loss: 3.9548 - val_accuracy: 0.2351\n",
      "Epoch 81/150\n",
      "1500/1500 [==============================] - 4s 3ms/step - loss: 3.8437 - accuracy: 0.2308 - val_loss: 3.9515 - val_accuracy: 0.2373\n",
      "Epoch 82/150\n",
      "1500/1500 [==============================] - 4s 3ms/step - loss: 3.8346 - accuracy: 0.2329 - val_loss: 3.9485 - val_accuracy: 0.2371\n",
      "Epoch 83/150\n",
      "1500/1500 [==============================] - 4s 3ms/step - loss: 3.8343 - accuracy: 0.2320 - val_loss: 3.9450 - val_accuracy: 0.2378\n",
      "Epoch 84/150\n",
      "1500/1500 [==============================] - 4s 3ms/step - loss: 3.8199 - accuracy: 0.2343 - val_loss: 3.9413 - val_accuracy: 0.2390\n",
      "Epoch 85/150\n",
      "1500/1500 [==============================] - 4s 3ms/step - loss: 3.8159 - accuracy: 0.2361 - val_loss: 3.9376 - val_accuracy: 0.2375\n",
      "Epoch 86/150\n",
      "1500/1500 [==============================] - 4s 3ms/step - loss: 3.8072 - accuracy: 0.2373 - val_loss: 3.9341 - val_accuracy: 0.2390\n",
      "Epoch 87/150\n",
      "1500/1500 [==============================] - 4s 3ms/step - loss: 3.8070 - accuracy: 0.2371 - val_loss: 3.9303 - val_accuracy: 0.2396\n",
      "Epoch 88/150\n",
      "1500/1500 [==============================] - 4s 3ms/step - loss: 3.8015 - accuracy: 0.2367 - val_loss: 3.9267 - val_accuracy: 0.2393\n",
      "Epoch 89/150\n",
      "1500/1500 [==============================] - 4s 3ms/step - loss: 3.7918 - accuracy: 0.2401 - val_loss: 3.9259 - val_accuracy: 0.2406\n",
      "Epoch 90/150\n",
      "1500/1500 [==============================] - 4s 3ms/step - loss: 3.7851 - accuracy: 0.2403 - val_loss: 3.9206 - val_accuracy: 0.2412\n",
      "Epoch 91/150\n",
      "1500/1500 [==============================] - 4s 3ms/step - loss: 3.7874 - accuracy: 0.2391 - val_loss: 3.9169 - val_accuracy: 0.2420\n",
      "Epoch 92/150\n",
      "1500/1500 [==============================] - 4s 3ms/step - loss: 3.7788 - accuracy: 0.2406 - val_loss: 3.9149 - val_accuracy: 0.2415\n",
      "Epoch 93/150\n",
      "1500/1500 [==============================] - 4s 3ms/step - loss: 3.7706 - accuracy: 0.2416 - val_loss: 3.9109 - val_accuracy: 0.2425\n",
      "Epoch 94/150\n",
      "1500/1500 [==============================] - 4s 3ms/step - loss: 3.7629 - accuracy: 0.2421 - val_loss: 3.9088 - val_accuracy: 0.2431\n",
      "Epoch 95/150\n",
      "1500/1500 [==============================] - 4s 3ms/step - loss: 3.7612 - accuracy: 0.2442 - val_loss: 3.9062 - val_accuracy: 0.2439\n",
      "Epoch 96/150\n",
      "1500/1500 [==============================] - 4s 3ms/step - loss: 3.7551 - accuracy: 0.2438 - val_loss: 3.9036 - val_accuracy: 0.2437\n",
      "Epoch 97/150\n",
      "1500/1500 [==============================] - 4s 3ms/step - loss: 3.7482 - accuracy: 0.2432 - val_loss: 3.9009 - val_accuracy: 0.2437\n",
      "Epoch 98/150\n",
      "1500/1500 [==============================] - 4s 3ms/step - loss: 3.7445 - accuracy: 0.2444 - val_loss: 3.8981 - val_accuracy: 0.2447\n",
      "Epoch 99/150\n",
      "1500/1500 [==============================] - 4s 3ms/step - loss: 3.7348 - accuracy: 0.2471 - val_loss: 3.8950 - val_accuracy: 0.2441\n",
      "Epoch 100/150\n",
      "1500/1500 [==============================] - 4s 3ms/step - loss: 3.7294 - accuracy: 0.2464 - val_loss: 3.8918 - val_accuracy: 0.2445\n",
      "Epoch 101/150\n",
      "1500/1500 [==============================] - 4s 3ms/step - loss: 3.7245 - accuracy: 0.2474 - val_loss: 3.8899 - val_accuracy: 0.2466\n",
      "Epoch 102/150\n",
      "1500/1500 [==============================] - 4s 3ms/step - loss: 3.7182 - accuracy: 0.2488 - val_loss: 3.8875 - val_accuracy: 0.2453\n",
      "Epoch 103/150\n",
      "1500/1500 [==============================] - 4s 3ms/step - loss: 3.7116 - accuracy: 0.2481 - val_loss: 3.8858 - val_accuracy: 0.2452\n",
      "Epoch 104/150\n",
      "1500/1500 [==============================] - 4s 3ms/step - loss: 3.7092 - accuracy: 0.2489 - val_loss: 3.8833 - val_accuracy: 0.2460\n",
      "Epoch 105/150\n",
      "1500/1500 [==============================] - 4s 3ms/step - loss: 3.7016 - accuracy: 0.2530 - val_loss: 3.8796 - val_accuracy: 0.2469\n",
      "Epoch 106/150\n",
      "1500/1500 [==============================] - 4s 3ms/step - loss: 3.6956 - accuracy: 0.2512 - val_loss: 3.8782 - val_accuracy: 0.2482\n",
      "Epoch 107/150\n",
      "1500/1500 [==============================] - 4s 3ms/step - loss: 3.6982 - accuracy: 0.2514 - val_loss: 3.8757 - val_accuracy: 0.2472\n",
      "Epoch 108/150\n",
      "1500/1500 [==============================] - 4s 3ms/step - loss: 3.6906 - accuracy: 0.2506 - val_loss: 3.8743 - val_accuracy: 0.2489\n",
      "Epoch 109/150\n",
      "1500/1500 [==============================] - 4s 3ms/step - loss: 3.6837 - accuracy: 0.2526 - val_loss: 3.8720 - val_accuracy: 0.2487\n",
      "Epoch 110/150\n",
      "1500/1500 [==============================] - 4s 3ms/step - loss: 3.6767 - accuracy: 0.2559 - val_loss: 3.8705 - val_accuracy: 0.2496\n",
      "Epoch 111/150\n",
      "1500/1500 [==============================] - 4s 3ms/step - loss: 3.6725 - accuracy: 0.2548 - val_loss: 3.8677 - val_accuracy: 0.2500\n",
      "Epoch 112/150\n",
      "1500/1500 [==============================] - 4s 3ms/step - loss: 3.6686 - accuracy: 0.2555 - val_loss: 3.8655 - val_accuracy: 0.2501\n",
      "Epoch 113/150\n"
     ]
    },
    {
     "name": "stdout",
     "output_type": "stream",
     "text": [
      "1500/1500 [==============================] - 4s 3ms/step - loss: 3.6595 - accuracy: 0.2570 - val_loss: 3.8644 - val_accuracy: 0.2498\n",
      "Epoch 114/150\n",
      "1500/1500 [==============================] - 4s 3ms/step - loss: 3.6553 - accuracy: 0.2570 - val_loss: 3.8607 - val_accuracy: 0.2502\n",
      "Epoch 115/150\n",
      "1500/1500 [==============================] - 4s 3ms/step - loss: 3.6516 - accuracy: 0.2590 - val_loss: 3.8587 - val_accuracy: 0.2514\n",
      "Epoch 116/150\n",
      "1500/1500 [==============================] - 4s 3ms/step - loss: 3.6469 - accuracy: 0.2595 - val_loss: 3.8585 - val_accuracy: 0.2510\n",
      "Epoch 117/150\n",
      "1500/1500 [==============================] - 4s 3ms/step - loss: 3.6456 - accuracy: 0.2581 - val_loss: 3.8581 - val_accuracy: 0.2500\n",
      "Epoch 118/150\n",
      "1500/1500 [==============================] - 4s 3ms/step - loss: 3.6361 - accuracy: 0.2605 - val_loss: 3.8530 - val_accuracy: 0.2526\n",
      "Epoch 119/150\n",
      "1500/1500 [==============================] - 4s 3ms/step - loss: 3.6335 - accuracy: 0.2599 - val_loss: 3.8520 - val_accuracy: 0.2528\n",
      "Epoch 120/150\n",
      "1500/1500 [==============================] - 4s 3ms/step - loss: 3.6302 - accuracy: 0.2603 - val_loss: 3.8502 - val_accuracy: 0.2515\n",
      "Epoch 121/150\n",
      "1500/1500 [==============================] - 4s 3ms/step - loss: 3.6274 - accuracy: 0.2598 - val_loss: 3.8481 - val_accuracy: 0.2520\n",
      "Epoch 122/150\n",
      "1500/1500 [==============================] - 4s 3ms/step - loss: 3.6188 - accuracy: 0.2615 - val_loss: 3.8479 - val_accuracy: 0.2522\n",
      "Epoch 123/150\n",
      "1500/1500 [==============================] - 4s 3ms/step - loss: 3.6114 - accuracy: 0.2618 - val_loss: 3.8468 - val_accuracy: 0.2518\n",
      "Epoch 124/150\n",
      "1500/1500 [==============================] - 4s 3ms/step - loss: 3.6088 - accuracy: 0.2641 - val_loss: 3.8432 - val_accuracy: 0.2530\n",
      "Epoch 125/150\n",
      "1500/1500 [==============================] - 4s 3ms/step - loss: 3.6014 - accuracy: 0.2646 - val_loss: 3.8426 - val_accuracy: 0.2530\n",
      "Epoch 126/150\n",
      "1500/1500 [==============================] - 4s 3ms/step - loss: 3.5984 - accuracy: 0.2635 - val_loss: 3.8404 - val_accuracy: 0.2524\n",
      "Epoch 127/150\n",
      "1500/1500 [==============================] - 4s 3ms/step - loss: 3.5958 - accuracy: 0.2641 - val_loss: 3.8395 - val_accuracy: 0.2518\n",
      "Epoch 128/150\n",
      "1500/1500 [==============================] - 4s 3ms/step - loss: 3.5871 - accuracy: 0.2660 - val_loss: 3.8384 - val_accuracy: 0.2535\n",
      "Epoch 129/150\n",
      "1500/1500 [==============================] - 4s 3ms/step - loss: 3.5861 - accuracy: 0.2650 - val_loss: 3.8360 - val_accuracy: 0.2534\n",
      "Epoch 130/150\n",
      "1500/1500 [==============================] - 4s 3ms/step - loss: 3.5817 - accuracy: 0.2672 - val_loss: 3.8366 - val_accuracy: 0.2535\n",
      "Epoch 131/150\n",
      "1500/1500 [==============================] - 4s 3ms/step - loss: 3.5711 - accuracy: 0.2695 - val_loss: 3.8350 - val_accuracy: 0.2533\n",
      "Epoch 132/150\n",
      "1500/1500 [==============================] - 4s 3ms/step - loss: 3.5711 - accuracy: 0.2670 - val_loss: 3.8335 - val_accuracy: 0.2535\n",
      "Epoch 133/150\n",
      "1500/1500 [==============================] - 4s 3ms/step - loss: 3.5697 - accuracy: 0.2677 - val_loss: 3.8324 - val_accuracy: 0.2536\n",
      "Epoch 134/150\n",
      "1500/1500 [==============================] - 4s 3ms/step - loss: 3.5644 - accuracy: 0.2693 - val_loss: 3.8297 - val_accuracy: 0.2543\n",
      "Epoch 135/150\n",
      "1500/1500 [==============================] - 4s 3ms/step - loss: 3.5511 - accuracy: 0.2697 - val_loss: 3.8281 - val_accuracy: 0.2553\n",
      "Epoch 136/150\n",
      "1500/1500 [==============================] - 4s 3ms/step - loss: 3.5550 - accuracy: 0.2704 - val_loss: 3.8268 - val_accuracy: 0.2537\n",
      "Epoch 137/150\n",
      "1500/1500 [==============================] - 4s 3ms/step - loss: 3.5484 - accuracy: 0.2718 - val_loss: 3.8269 - val_accuracy: 0.2540\n",
      "Epoch 138/150\n",
      "1500/1500 [==============================] - 4s 3ms/step - loss: 3.5504 - accuracy: 0.2723 - val_loss: 3.8265 - val_accuracy: 0.2542\n",
      "Epoch 139/150\n",
      "1500/1500 [==============================] - 4s 3ms/step - loss: 3.5438 - accuracy: 0.2705 - val_loss: 3.8241 - val_accuracy: 0.2548\n",
      "Epoch 140/150\n",
      "1500/1500 [==============================] - 4s 3ms/step - loss: 3.5383 - accuracy: 0.2744 - val_loss: 3.8243 - val_accuracy: 0.2552\n",
      "Epoch 141/150\n",
      "1500/1500 [==============================] - 4s 3ms/step - loss: 3.5278 - accuracy: 0.2729 - val_loss: 3.8215 - val_accuracy: 0.2553\n",
      "Epoch 142/150\n",
      "1500/1500 [==============================] - 4s 3ms/step - loss: 3.5289 - accuracy: 0.2747 - val_loss: 3.8204 - val_accuracy: 0.2550\n",
      "Epoch 143/150\n",
      "1500/1500 [==============================] - 4s 3ms/step - loss: 3.5210 - accuracy: 0.2752 - val_loss: 3.8187 - val_accuracy: 0.2559\n",
      "Epoch 144/150\n",
      "1500/1500 [==============================] - 4s 3ms/step - loss: 3.5195 - accuracy: 0.2741 - val_loss: 3.8198 - val_accuracy: 0.2561\n",
      "Epoch 145/150\n",
      "1500/1500 [==============================] - 4s 3ms/step - loss: 3.5150 - accuracy: 0.2730 - val_loss: 3.8176 - val_accuracy: 0.2566\n",
      "Epoch 146/150\n",
      "1500/1500 [==============================] - 4s 3ms/step - loss: 3.5110 - accuracy: 0.2731 - val_loss: 3.8163 - val_accuracy: 0.2573\n",
      "Epoch 147/150\n",
      "1500/1500 [==============================] - 4s 3ms/step - loss: 3.5106 - accuracy: 0.2746 - val_loss: 3.8170 - val_accuracy: 0.2574\n",
      "Epoch 148/150\n",
      "1500/1500 [==============================] - 4s 3ms/step - loss: 3.5043 - accuracy: 0.2778 - val_loss: 3.8161 - val_accuracy: 0.2568\n",
      "Epoch 149/150\n",
      "1500/1500 [==============================] - 4s 3ms/step - loss: 3.4993 - accuracy: 0.2792 - val_loss: 3.8139 - val_accuracy: 0.2562\n",
      "Epoch 150/150\n",
      "1500/1500 [==============================] - 4s 3ms/step - loss: 3.4966 - accuracy: 0.2781 - val_loss: 3.8139 - val_accuracy: 0.2562\n"
     ]
    }
   ],
   "source": [
    "epochs = 150 # orig 10\n",
    "history = model.fit(\n",
    "    train_ds,\n",
    "    validation_data=val_ds,\n",
    "    epochs=epochs)"
   ]
  },
  {
   "cell_type": "markdown",
   "metadata": {
    "id": "9EEGuDVuzb5r"
   },
   "source": [
    "### Evaluate the model"
   ]
  },
  {
   "cell_type": "code",
   "execution_count": 20,
   "metadata": {
    "colab": {
     "base_uri": "https://localhost:8080/"
    },
    "id": "zOMKywn4zReN",
    "outputId": "2a327441-87b1-40c2-9198-3a325985d358"
   },
   "outputs": [
    {
     "name": "stdout",
     "output_type": "stream",
     "text": [
      "469/469 [==============================] - 10s 20ms/step - loss: 3.7760 - accuracy: 0.2567\n",
      "Loss:  3.7760207653045654\n",
      "Accuracy:  0.2566666603088379\n"
     ]
    }
   ],
   "source": [
    "loss, accuracy = model.evaluate(test_ds)\n",
    "\n",
    "print(\"Loss: \", loss)\n",
    "print(\"Accuracy: \", accuracy)"
   ]
  },
  {
   "cell_type": "code",
   "execution_count": 21,
   "metadata": {
    "colab": {
     "base_uri": "https://localhost:8080/"
    },
    "id": "-YcvZsdvWfDf",
    "outputId": "50ae623b-0896-432d-bf77-35c69218fba7"
   },
   "outputs": [
    {
     "data": {
      "text/plain": [
       "dict_keys(['loss', 'accuracy', 'val_loss', 'val_accuracy'])"
      ]
     },
     "execution_count": 21,
     "metadata": {},
     "output_type": "execute_result"
    }
   ],
   "source": [
    "history_dict = history.history\n",
    "history_dict.keys()"
   ]
  },
  {
   "cell_type": "code",
   "execution_count": 27,
   "metadata": {
    "colab": {
     "base_uri": "https://localhost:8080/",
     "height": 295
    },
    "id": "2SEMeQ5YXs8z",
    "outputId": "74037a35-f061-41d7-b7ce-74cbe82d5f72"
   },
   "outputs": [
    {
     "data": {
      "image/png": "[encoded data removed]",
      "text/plain": [
       "<Figure size 432x288 with 1 Axes>"
      ]
     },
     "metadata": {
      "needs_background": "light"
     },
     "output_type": "display_data"
    }
   ],
   "source": [
    "acc = history_dict['accuracy']\n",
    "val_acc = history_dict['val_accuracy']\n",
    "loss = history_dict['loss']\n",
    "val_loss = history_dict['val_loss']\n",
    "\n",
    "epochs = range(1, len(acc) + 1)\n",
    "\n",
    "plt.plot(epochs, loss, 'bo', label='Training loss')\n",
    "plt.plot(epochs, val_loss, 'b', label='Validation loss')\n",
    "plt.title('Training and validation loss')\n",
    "plt.xlabel('Epochs')\n",
    "plt.ylabel('Loss')\n",
    "plt.legend()\n",
    "\n",
    "plt.show()"
   ]
  },
  {
   "cell_type": "code",
   "execution_count": 23,
   "metadata": {
    "colab": {
     "base_uri": "https://localhost:8080/",
     "height": 295
    },
    "id": "Z3PJemLPXwz_",
    "outputId": "d52ca576-f92c-493b-cbcc-731adee70664"
   },
   "outputs": [
    {
     "data": {
      "image/png": "[encoded data removed]",
      "text/plain": [
       "<Figure size 432x288 with 1 Axes>"
      ]
     },
     "metadata": {
      "needs_background": "light"
     },
     "output_type": "display_data"
    }
   ],
   "source": [
    "plt.plot(epochs, acc, 'bo', label='Training acc')\n",
    "plt.plot(epochs, val_acc, 'b', label='Validation acc')\n",
    "plt.title('Training and validation accuracy')\n",
    "plt.xlabel('Epochs')\n",
    "plt.ylabel('Accuracy')\n",
    "plt.legend(loc='lower right')\n",
    "\n",
    "plt.show()"
   ]
  },
  {
   "cell_type": "markdown",
   "metadata": {
    "id": "-to23J3Vy5d3"
   },
   "source": [
    "## Export the model\n"
   ]
  },
  {
   "cell_type": "code",
   "execution_count": 28,
   "metadata": {
    "colab": {
     "base_uri": "https://localhost:8080/"
    },
    "id": "FWXsMvryuZuq",
    "outputId": "163811a4-3043-4ac6-d631-a2937571c5ca"
   },
   "outputs": [
    {
     "name": "stdout",
     "output_type": "stream",
     "text": [
      "469/469 [==============================] - 3s 6ms/step - loss: 3.7760 - accuracy: 0.2567\n",
      "0.2566666603088379\n"
     ]
    }
   ],
   "source": [
    "export_model = tf.keras.Sequential([\n",
    "  vectorize_layer,\n",
    "  model,\n",
    "  # layers.Activation('sigmoid')\n",
    "  layers.Activation('softmax')\n",
    "])\n",
    "\n",
    "export_model.compile(\n",
    "    loss=losses.SparseCategoricalCrossentropy(from_logits=False), optimizer=\"adam\", metrics=['accuracy']\n",
    ")\n",
    "\n",
    "loss, accuracy = export_model.evaluate(raw_test_ds)\n",
    "print(accuracy)"
   ]
  },
  {
   "cell_type": "markdown",
   "metadata": {
    "id": "TwQgoN88LoEF"
   },
   "source": [
    "### Inference on new data\n"
   ]
  },
  {
   "cell_type": "code",
   "execution_count": 55,
   "metadata": {
    "id": "QW355HH5L49K",
    "scrolled": true
   },
   "outputs": [],
   "source": [
    "def make_prediction(model, text: str) -> Tuple[str, float]:\n",
    "    prediction = model.predict([text])\n",
    "    \n",
    "    max_confidence = max(prediction.tolist()[0])\n",
    "    index = prediction.tolist()[0].index(max_confidence)\n",
    "    \n",
    "    return raw_train_ds.class_names[index], max_confidence"
   ]
  },
  {
   "cell_type": "code",
   "execution_count": 61,
   "metadata": {
    "scrolled": true
   },
   "outputs": [
    {
     "data": {
      "text/plain": [
       "('skyrim_stan', 0.04372226446866989)"
      ]
     },
     "execution_count": 61,
     "metadata": {},
     "output_type": "execute_result"
    }
   ],
   "source": [
    "make_prediction(export_model, \"Out of arrows <sep> use the one in knee\")"
   ]
  },
  {
   "cell_type": "code",
   "execution_count": 71,
   "metadata": {
    "scrolled": true
   },
   "outputs": [
    {
     "data": {
      "text/plain": [
       "('Conspiracy_Keanu', 0.11020059883594513)"
      ]
     },
     "execution_count": 71,
     "metadata": {},
     "output_type": "execute_result"
    }
   ],
   "source": [
    "make_prediction(export_model, \"If 666 is evil <sep> is 25.80697580 the root of all evil?\")"
   ]
  },
  {
   "cell_type": "code",
   "execution_count": 69,
   "metadata": {},
   "outputs": [
    {
     "data": {
      "text/plain": [
       "('One_Does_Not_Simply', 0.9408479928970337)"
      ]
     },
     "execution_count": 69,
     "metadata": {},
     "output_type": "execute_result"
    }
   ],
   "source": [
    "# Even though this meme breaks the format \"One does not simply <sep> <SOMETHING>\"\n",
    "# it's still being detected correctly with 94% confindence!\n",
    "make_prediction(export_model, \"talk like yoda <sep> One simply does not\") "
   ]
  }
 ],
 "metadata": {
  "accelerator": "GPU",
  "colab": {
   "collapsed_sections": [],
   "name": "Copy of Copy of text_classification.ipynb",
   "provenance": [],
   "toc_visible": true
  },
  "kernelspec": {
   "display_name": "Python 3 (ipykernel)",
   "language": "python",
   "name": "python3"
  },
  "language_info": {
   "codemirror_mode": {
    "name": "ipython",
    "version": 3
   },
   "file_extension": ".py",
   "mimetype": "text/x-python",
   "name": "python",
   "nbconvert_exporter": "python",
   "pygments_lexer": "ipython3",
   "version": "3.9.6"
  }
 },
 "nbformat": 4,
 "nbformat_minor": 1
}
