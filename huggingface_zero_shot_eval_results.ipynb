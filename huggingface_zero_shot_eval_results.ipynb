{
 "cells": [
  {
   "cell_type": "code",
   "execution_count": 4,
   "id": "276e84d7",
   "metadata": {},
   "outputs": [],
   "source": [
    "import pandas as pd\n",
    "import json\n",
    "import statistics"
   ]
  },
  {
   "cell_type": "code",
   "execution_count": 5,
   "id": "5a3c9bdd",
   "metadata": {},
   "outputs": [
    {
     "data": {
      "text/html": [
       "<div>\n",
       "<style scoped>\n",
       "    .dataframe tbody tr th:only-of-type {\n",
       "        vertical-align: middle;\n",
       "    }\n",
       "\n",
       "    .dataframe tbody tr th {\n",
       "        vertical-align: top;\n",
       "    }\n",
       "\n",
       "    .dataframe thead th {\n",
       "        text-align: right;\n",
       "    }\n",
       "</style>\n",
       "<table border=\"1\" class=\"dataframe\">\n",
       "  <thead>\n",
       "    <tr style=\"text-align: right;\">\n",
       "      <th></th>\n",
       "      <th>MemeName</th>\n",
       "      <th>Text</th>\n",
       "    </tr>\n",
       "  </thead>\n",
       "  <tbody>\n",
       "    <tr>\n",
       "      <th>0</th>\n",
       "      <td>Y U No</td>\n",
       "      <td>Forever alone guy &lt;sep&gt; y u no get cat</td>\n",
       "    </tr>\n",
       "    <tr>\n",
       "      <th>1</th>\n",
       "      <td>Y U No</td>\n",
       "      <td>TEAMMATES &lt;sep&gt; Y U NO REVIVE ME?</td>\n",
       "    </tr>\n",
       "    <tr>\n",
       "      <th>2</th>\n",
       "      <td>Y U No</td>\n",
       "      <td>GIRLS &lt;sep&gt; Y U SO COMPLICATED ??!</td>\n",
       "    </tr>\n",
       "    <tr>\n",
       "      <th>3</th>\n",
       "      <td>Y U No</td>\n",
       "      <td>I 'like' all your pics &lt;sep&gt; Y U No have sex w...</td>\n",
       "    </tr>\n",
       "    <tr>\n",
       "      <th>4</th>\n",
       "      <td>Y U No</td>\n",
       "      <td>girls &lt;sep&gt; y u no stop making duck faces?!</td>\n",
       "    </tr>\n",
       "  </tbody>\n",
       "</table>\n",
       "</div>"
      ],
      "text/plain": [
       "  MemeName                                               Text\n",
       "0   Y U No             Forever alone guy <sep> y u no get cat\n",
       "1   Y U No                  TEAMMATES <sep> Y U NO REVIVE ME?\n",
       "2   Y U No                 GIRLS <sep> Y U SO COMPLICATED ??!\n",
       "3   Y U No  I 'like' all your pics <sep> Y U No have sex w...\n",
       "4   Y U No        girls <sep> y u no stop making duck faces?!"
      ]
     },
     "execution_count": 5,
     "metadata": {},
     "output_type": "execute_result"
    }
   ],
   "source": [
    "dataset = pd.read_csv('all.csv')\n",
    "dataset = dataset[[\"MemeName\", \"Text\"]]\n",
    "dataset.head(5)"
   ]
  },
  {
   "cell_type": "code",
   "execution_count": 6,
   "id": "fb95bd2e",
   "metadata": {},
   "outputs": [],
   "source": [
    "lookup_dict = {}\n",
    "for x in dataset.iterrows():\n",
    "    lookup_dict[x[1].Text] = x[1].MemeName"
   ]
  },
  {
   "cell_type": "code",
   "execution_count": 1,
   "id": "6e30a3e1",
   "metadata": {},
   "outputs": [],
   "source": [
    "# lookup_dict"
   ]
  },
  {
   "cell_type": "code",
   "execution_count": 7,
   "id": "3c3acb4c",
   "metadata": {},
   "outputs": [],
   "source": [
    "def evaluate_file(path: str):\n",
    "    indexes = []\n",
    "    \n",
    "    with open(path, encoding=\"utf8\") as f:\n",
    "        data = json.load(f)\n",
    "        \n",
    "    for _, value in data.items():\n",
    "        key = value[\"sequence\"]\n",
    "        labels_order = value[\"labels\"]\n",
    "        try:\n",
    "            correct_label = lookup_dict[key]\n",
    "\n",
    "            correct_label_id = labels_order.index(correct_label)\n",
    "            indexes.append(correct_label_id)\n",
    "\n",
    "#             print(correct_label_id, key)\n",
    "        except:\n",
    "#             print(\"Incorrect key\")\n",
    "            pass\n",
    "\n",
    "    print(\"n:\", len(indexes))\n",
    "    print(\"Median index:\", statistics.median(indexes))\n",
    "    print(\"Mean index:\", statistics.mean(indexes))\n",
    "    print(\"% in top 1:\", len(list(filter(lambda x: x == 0, indexes))) / len(indexes) * 100 )\n",
    "    print(\"% in top 5: \", len(list(filter(lambda x: x <= 4, indexes))) / len(indexes) * 100 )\n",
    "    \n",
    "\n",
    "    "
   ]
  },
  {
   "cell_type": "code",
   "execution_count": 73,
   "id": "685adf2b",
   "metadata": {},
   "outputs": [
    {
     "name": "stdout",
     "output_type": "stream",
     "text": [
      "n: 370\n",
      "Median index: 112.5\n",
      "Mean index: 126.38648648648649\n",
      "% of top 1: 8.108108108108109\n",
      "% of top 5:  10.81081081081081\n"
     ]
    }
   ],
   "source": [
    "evaluate_file(\"outputs/roberta-large-mnli.json\")"
   ]
  },
  {
   "cell_type": "code",
   "execution_count": 8,
   "id": "158ded01",
   "metadata": {},
   "outputs": [
    {
     "name": "stdout",
     "output_type": "stream",
     "text": [
      "n: 400\n",
      "Median index: 112.0\n",
      "Mean index: 124.945\n",
      "% in top 1: 7.249999999999999\n",
      "% in top 5:  12.75\n"
     ]
    }
   ],
   "source": [
    "evaluate_file(\"outputs/typeform_mobilebert-uncased-mnli.out.json\")"
   ]
  }
 ],
 "metadata": {
  "kernelspec": {
   "display_name": "Python 3 (ipykernel)",
   "language": "python",
   "name": "python3"
  },
  "language_info": {
   "codemirror_mode": {
    "name": "ipython",
    "version": 3
   },
   "file_extension": ".py",
   "mimetype": "text/x-python",
   "name": "python",
   "nbconvert_exporter": "python",
   "pygments_lexer": "ipython3",
   "version": "3.9.6"
  }
 },
 "nbformat": 4,
 "nbformat_minor": 5
}
